{
 "cells": [
  {
   "cell_type": "markdown",
   "metadata": {},
   "source": [
    "## Tarea 5 del curso CM-072\n",
    "\n",
    "* Nombre y apellidos: Kevin Daniel Molina Bejar\n",
    "* Fecha de presentación: 9 de octubre."
   ]
  },
  {
   "cell_type": "markdown",
   "metadata": {},
   "source": [
    "## Lista de preguntas:"
   ]
  },
  {
   "cell_type": "markdown",
   "metadata": {},
   "source": [
    "1. Presentar un reporte del capítulo  Resampling Methods del libro [An Introduction to Statistical Learning](http://www-bcf.usc.edu/%7Egareth/ISL/index.html) de  Gareth James, Daniela Witten, Trevor Hastie y Robert Tibshirani. Páginas: 175-186. "
   ]
  },
  {
   "cell_type": "code",
   "execution_count": null,
   "metadata": {},
   "outputs": [],
   "source": [
    "# Tu respuesta"
   ]
  },
  {
   "cell_type": "markdown",
   "metadata": {},
   "source": [
    "2. Sea el siguiente código acerca de validación cruzada y búsqueda grid. Usa GridSearchCV para ajustar n_neighbors of KNeighborsClassifier."
   ]
  },
  {
   "cell_type": "code",
   "execution_count": 1,
   "metadata": {},
   "outputs": [],
   "source": [
    "%matplotlib inline\n",
    "import matplotlib.pyplot as plt\n",
    "plt.rcParams[\"figure.dpi\"] = 200\n",
    "import numpy as np"
   ]
  },
  {
   "cell_type": "code",
   "execution_count": 2,
   "metadata": {},
   "outputs": [],
   "source": [
    "from sklearn.datasets import load_digits\n",
    "from sklearn.model_selection import train_test_split\n",
    "digitos = load_digits()\n",
    "X_entrenamiento, X_prueba, y_entrenamiento, y_prueba = train_test_split( digitos.data, digitos.target)"
   ]
  },
  {
   "cell_type": "code",
   "execution_count": 3,
   "metadata": {},
   "outputs": [],
   "source": [
    "from sklearn.model_selection import cross_val_score\n",
    "from sklearn.neighbors import KNeighborsClassifier"
   ]
  },
  {
   "cell_type": "code",
   "execution_count": 4,
   "metadata": {},
   "outputs": [
    {
     "data": {
      "text/plain": [
       "array([0.97794118, 0.98897059, 0.98148148, 0.98127341, 0.9962406 ])"
      ]
     },
     "execution_count": 4,
     "metadata": {},
     "output_type": "execute_result"
    }
   ],
   "source": [
    "cross_val_score(KNeighborsClassifier(), X_entrenamiento, y_entrenamiento, cv=5)"
   ]
  },
  {
   "cell_type": "code",
   "execution_count": 5,
   "metadata": {},
   "outputs": [],
   "source": [
    "from sklearn.model_selection import KFold, StratifiedKFold"
   ]
  },
  {
   "cell_type": "code",
   "execution_count": 6,
   "metadata": {},
   "outputs": [
    {
     "data": {
      "text/plain": [
       "array([0.98518519, 0.97777778, 0.97777778, 0.97777778, 0.99259259,\n",
       "       0.98518519, 0.98518519, 0.99253731, 0.99253731, 0.98507463])"
      ]
     },
     "execution_count": 6,
     "metadata": {},
     "output_type": "execute_result"
    }
   ],
   "source": [
    "cross_val_score(KNeighborsClassifier(),\n",
    "                X_entrenamiento, y_entrenamiento, cv=KFold(n_splits=10, shuffle=True, random_state=42))"
   ]
  },
  {
   "cell_type": "markdown",
   "metadata": {},
   "source": [
    "Búsqueda grid con validación cruzada incorporada."
   ]
  },
  {
   "cell_type": "code",
   "execution_count": 7,
   "metadata": {},
   "outputs": [],
   "source": [
    "from sklearn.model_selection import GridSearchCV\n",
    "from sklearn.svm import SVC"
   ]
  },
  {
   "cell_type": "markdown",
   "metadata": {},
   "source": [
    "Definimos los parametros grid:"
   ]
  },
  {
   "cell_type": "code",
   "execution_count": 8,
   "metadata": {},
   "outputs": [
    {
     "name": "stdout",
     "output_type": "stream",
     "text": [
      "{'C': array([  0.001,   0.01 ,   0.1  ,   1.   ,  10.   , 100.   ]), 'gamma': array([0.00001, 0.0001 , 0.001  , 0.01   , 0.1    ])}\n"
     ]
    }
   ],
   "source": [
    "parametros_grid = {'C': 10. ** np.arange(-3, 3),'gamma' : 10. ** np.arange(-5, 0)}\n",
    "np.set_printoptions(suppress=True)\n",
    "print(parametros_grid)"
   ]
  },
  {
   "cell_type": "code",
   "execution_count": 9,
   "metadata": {},
   "outputs": [],
   "source": [
    "busqueda_grid= GridSearchCV(SVC(), parametros_grid, verbose=3, cv=5)"
   ]
  },
  {
   "cell_type": "markdown",
   "metadata": {},
   "source": [
    "Un objeto GridSearchCV se comporta como un clasificador normal."
   ]
  },
  {
   "cell_type": "code",
   "execution_count": 10,
   "metadata": {},
   "outputs": [
    {
     "name": "stdout",
     "output_type": "stream",
     "text": [
      "Fitting 5 folds for each of 30 candidates, totalling 150 fits\n",
      "[CV] C=0.001, gamma=1e-05 ............................................\n",
      "[CV] .. C=0.001, gamma=1e-05, score=0.10661764705882353, total=   0.4s\n",
      "[CV] C=0.001, gamma=1e-05 ............................................\n"
     ]
    },
    {
     "name": "stderr",
     "output_type": "stream",
     "text": [
      "[Parallel(n_jobs=1)]: Done   1 out of   1 | elapsed:    0.5s remaining:    0.0s\n"
     ]
    },
    {
     "name": "stdout",
     "output_type": "stream",
     "text": [
      "[CV] .. C=0.001, gamma=1e-05, score=0.10661764705882353, total=   0.3s\n",
      "[CV] C=0.001, gamma=1e-05 ............................................\n"
     ]
    },
    {
     "name": "stderr",
     "output_type": "stream",
     "text": [
      "[Parallel(n_jobs=1)]: Done   2 out of   2 | elapsed:    1.0s remaining:    0.0s\n"
     ]
    },
    {
     "name": "stdout",
     "output_type": "stream",
     "text": [
      "[CV] .. C=0.001, gamma=1e-05, score=0.10740740740740741, total=   0.3s\n",
      "[CV] C=0.001, gamma=1e-05 ............................................\n",
      "[CV] .. C=0.001, gamma=1e-05, score=0.10861423220973783, total=   0.3s\n",
      "[CV] C=0.001, gamma=1e-05 ............................................\n",
      "[CV] .. C=0.001, gamma=1e-05, score=0.10902255639097744, total=   0.3s\n",
      "[CV] C=0.001, gamma=0.0001 ...........................................\n",
      "[CV] . C=0.001, gamma=0.0001, score=0.10661764705882353, total=   0.3s\n",
      "[CV] C=0.001, gamma=0.0001 ...........................................\n",
      "[CV] . C=0.001, gamma=0.0001, score=0.10661764705882353, total=   0.3s\n",
      "[CV] C=0.001, gamma=0.0001 ...........................................\n",
      "[CV] . C=0.001, gamma=0.0001, score=0.10740740740740741, total=   0.3s\n",
      "[CV] C=0.001, gamma=0.0001 ...........................................\n",
      "[CV] . C=0.001, gamma=0.0001, score=0.10861423220973783, total=   0.3s\n",
      "[CV] C=0.001, gamma=0.0001 ...........................................\n",
      "[CV] . C=0.001, gamma=0.0001, score=0.10902255639097744, total=   0.3s\n",
      "[CV] C=0.001, gamma=0.001 ............................................\n",
      "[CV] .. C=0.001, gamma=0.001, score=0.10661764705882353, total=   0.3s\n",
      "[CV] C=0.001, gamma=0.001 ............................................\n",
      "[CV] .. C=0.001, gamma=0.001, score=0.10661764705882353, total=   0.3s\n",
      "[CV] C=0.001, gamma=0.001 ............................................\n",
      "[CV] .. C=0.001, gamma=0.001, score=0.10740740740740741, total=   0.3s\n",
      "[CV] C=0.001, gamma=0.001 ............................................\n",
      "[CV] .. C=0.001, gamma=0.001, score=0.10861423220973783, total=   0.3s\n",
      "[CV] C=0.001, gamma=0.001 ............................................\n",
      "[CV] .. C=0.001, gamma=0.001, score=0.10902255639097744, total=   0.3s\n",
      "[CV] C=0.001, gamma=0.01 .............................................\n",
      "[CV] ... C=0.001, gamma=0.01, score=0.10661764705882353, total=   0.3s\n",
      "[CV] C=0.001, gamma=0.01 .............................................\n",
      "[CV] ... C=0.001, gamma=0.01, score=0.10661764705882353, total=   0.3s\n",
      "[CV] C=0.001, gamma=0.01 .............................................\n",
      "[CV] ... C=0.001, gamma=0.01, score=0.10740740740740741, total=   0.3s\n",
      "[CV] C=0.001, gamma=0.01 .............................................\n",
      "[CV] ... C=0.001, gamma=0.01, score=0.10861423220973783, total=   0.3s\n",
      "[CV] C=0.001, gamma=0.01 .............................................\n",
      "[CV] ... C=0.001, gamma=0.01, score=0.10902255639097744, total=   0.3s\n",
      "[CV] C=0.001, gamma=0.1 ..............................................\n",
      "[CV] .... C=0.001, gamma=0.1, score=0.10661764705882353, total=   0.4s\n",
      "[CV] C=0.001, gamma=0.1 ..............................................\n",
      "[CV] .... C=0.001, gamma=0.1, score=0.10661764705882353, total=   0.3s\n",
      "[CV] C=0.001, gamma=0.1 ..............................................\n",
      "[CV] .... C=0.001, gamma=0.1, score=0.10740740740740741, total=   0.3s\n",
      "[CV] C=0.001, gamma=0.1 ..............................................\n",
      "[CV] .... C=0.001, gamma=0.1, score=0.10861423220973783, total=   0.3s\n",
      "[CV] C=0.001, gamma=0.1 ..............................................\n",
      "[CV] .... C=0.001, gamma=0.1, score=0.10902255639097744, total=   0.3s\n",
      "[CV] C=0.01, gamma=1e-05 .............................................\n",
      "[CV] ... C=0.01, gamma=1e-05, score=0.10661764705882353, total=   0.3s\n",
      "[CV] C=0.01, gamma=1e-05 .............................................\n",
      "[CV] ... C=0.01, gamma=1e-05, score=0.10661764705882353, total=   0.3s\n",
      "[CV] C=0.01, gamma=1e-05 .............................................\n",
      "[CV] ... C=0.01, gamma=1e-05, score=0.10740740740740741, total=   0.3s\n",
      "[CV] C=0.01, gamma=1e-05 .............................................\n",
      "[CV] ... C=0.01, gamma=1e-05, score=0.10861423220973783, total=   0.3s\n",
      "[CV] C=0.01, gamma=1e-05 .............................................\n",
      "[CV] ... C=0.01, gamma=1e-05, score=0.10902255639097744, total=   0.3s\n",
      "[CV] C=0.01, gamma=0.0001 ............................................\n",
      "[CV] .. C=0.01, gamma=0.0001, score=0.10661764705882353, total=   0.3s\n",
      "[CV] C=0.01, gamma=0.0001 ............................................\n",
      "[CV] .. C=0.01, gamma=0.0001, score=0.10661764705882353, total=   0.3s\n",
      "[CV] C=0.01, gamma=0.0001 ............................................\n",
      "[CV] .. C=0.01, gamma=0.0001, score=0.10740740740740741, total=   0.3s\n",
      "[CV] C=0.01, gamma=0.0001 ............................................\n",
      "[CV] .. C=0.01, gamma=0.0001, score=0.10861423220973783, total=   0.3s\n",
      "[CV] C=0.01, gamma=0.0001 ............................................\n",
      "[CV] .. C=0.01, gamma=0.0001, score=0.10902255639097744, total=   0.3s\n",
      "[CV] C=0.01, gamma=0.001 .............................................\n",
      "[CV] ... C=0.01, gamma=0.001, score=0.10661764705882353, total=   0.3s\n",
      "[CV] C=0.01, gamma=0.001 .............................................\n",
      "[CV] ... C=0.01, gamma=0.001, score=0.10661764705882353, total=   0.3s\n",
      "[CV] C=0.01, gamma=0.001 .............................................\n",
      "[CV] ... C=0.01, gamma=0.001, score=0.10740740740740741, total=   0.3s\n",
      "[CV] C=0.01, gamma=0.001 .............................................\n",
      "[CV] ... C=0.01, gamma=0.001, score=0.10861423220973783, total=   0.3s\n",
      "[CV] C=0.01, gamma=0.001 .............................................\n",
      "[CV] ... C=0.01, gamma=0.001, score=0.10902255639097744, total=   0.3s\n",
      "[CV] C=0.01, gamma=0.01 ..............................................\n",
      "[CV] .... C=0.01, gamma=0.01, score=0.10661764705882353, total=   0.3s\n",
      "[CV] C=0.01, gamma=0.01 ..............................................\n",
      "[CV] .... C=0.01, gamma=0.01, score=0.10661764705882353, total=   0.3s\n",
      "[CV] C=0.01, gamma=0.01 ..............................................\n",
      "[CV] .... C=0.01, gamma=0.01, score=0.10740740740740741, total=   0.3s\n",
      "[CV] C=0.01, gamma=0.01 ..............................................\n",
      "[CV] .... C=0.01, gamma=0.01, score=0.10861423220973783, total=   0.3s\n",
      "[CV] C=0.01, gamma=0.01 ..............................................\n",
      "[CV] .... C=0.01, gamma=0.01, score=0.10902255639097744, total=   0.3s\n",
      "[CV] C=0.01, gamma=0.1 ...............................................\n",
      "[CV] ..... C=0.01, gamma=0.1, score=0.10661764705882353, total=   0.3s\n",
      "[CV] C=0.01, gamma=0.1 ...............................................\n",
      "[CV] ..... C=0.01, gamma=0.1, score=0.10661764705882353, total=   0.3s\n",
      "[CV] C=0.01, gamma=0.1 ...............................................\n",
      "[CV] ..... C=0.01, gamma=0.1, score=0.10740740740740741, total=   0.3s\n",
      "[CV] C=0.01, gamma=0.1 ...............................................\n",
      "[CV] ..... C=0.01, gamma=0.1, score=0.10861423220973783, total=   0.3s\n",
      "[CV] C=0.01, gamma=0.1 ...............................................\n",
      "[CV] ..... C=0.01, gamma=0.1, score=0.10902255639097744, total=   0.3s\n",
      "[CV] C=0.1, gamma=1e-05 ..............................................\n",
      "[CV] .... C=0.1, gamma=1e-05, score=0.10661764705882353, total=   0.3s\n",
      "[CV] C=0.1, gamma=1e-05 ..............................................\n",
      "[CV] .... C=0.1, gamma=1e-05, score=0.10661764705882353, total=   0.3s\n",
      "[CV] C=0.1, gamma=1e-05 ..............................................\n",
      "[CV] .... C=0.1, gamma=1e-05, score=0.10740740740740741, total=   0.3s\n",
      "[CV] C=0.1, gamma=1e-05 ..............................................\n",
      "[CV] .... C=0.1, gamma=1e-05, score=0.10861423220973783, total=   0.3s\n",
      "[CV] C=0.1, gamma=1e-05 ..............................................\n",
      "[CV] .... C=0.1, gamma=1e-05, score=0.10902255639097744, total=   0.3s\n",
      "[CV] C=0.1, gamma=0.0001 .............................................\n",
      "[CV] .... C=0.1, gamma=0.0001, score=0.8014705882352942, total=   0.3s\n",
      "[CV] C=0.1, gamma=0.0001 .............................................\n",
      "[CV] .... C=0.1, gamma=0.0001, score=0.8455882352941176, total=   0.3s\n",
      "[CV] C=0.1, gamma=0.0001 .............................................\n",
      "[CV] ..... C=0.1, gamma=0.0001, score=0.825925925925926, total=   0.2s\n",
      "[CV] C=0.1, gamma=0.0001 .............................................\n",
      "[CV] .... C=0.1, gamma=0.0001, score=0.8277153558052435, total=   0.3s\n",
      "[CV] C=0.1, gamma=0.0001 .............................................\n",
      "[CV] ..... C=0.1, gamma=0.0001, score=0.849624060150376, total=   0.3s\n",
      "[CV] C=0.1, gamma=0.001 ..............................................\n"
     ]
    },
    {
     "name": "stdout",
     "output_type": "stream",
     "text": [
      "[CV] ..... C=0.1, gamma=0.001, score=0.9632352941176471, total=   0.2s\n",
      "[CV] C=0.1, gamma=0.001 ..............................................\n",
      "[CV] ..... C=0.1, gamma=0.001, score=0.9705882352941176, total=   0.2s\n",
      "[CV] C=0.1, gamma=0.001 ..............................................\n",
      "[CV] ..... C=0.1, gamma=0.001, score=0.9666666666666667, total=   0.2s\n",
      "[CV] C=0.1, gamma=0.001 ..............................................\n",
      "[CV] ..... C=0.1, gamma=0.001, score=0.9400749063670412, total=   0.2s\n",
      "[CV] C=0.1, gamma=0.001 ..............................................\n",
      "[CV] ..... C=0.1, gamma=0.001, score=0.9511278195488722, total=   0.2s\n",
      "[CV] C=0.1, gamma=0.01 ...............................................\n",
      "[CV] ..... C=0.1, gamma=0.01, score=0.10661764705882353, total=   0.3s\n",
      "[CV] C=0.1, gamma=0.01 ...............................................\n",
      "[CV] ..... C=0.1, gamma=0.01, score=0.10661764705882353, total=   0.3s\n",
      "[CV] C=0.1, gamma=0.01 ...............................................\n",
      "[CV] ..... C=0.1, gamma=0.01, score=0.10740740740740741, total=   0.3s\n",
      "[CV] C=0.1, gamma=0.01 ...............................................\n",
      "[CV] ..... C=0.1, gamma=0.01, score=0.10861423220973783, total=   0.3s\n",
      "[CV] C=0.1, gamma=0.01 ...............................................\n",
      "[CV] ..... C=0.1, gamma=0.01, score=0.10902255639097744, total=   0.3s\n",
      "[CV] C=0.1, gamma=0.1 ................................................\n",
      "[CV] ...... C=0.1, gamma=0.1, score=0.10661764705882353, total=   0.3s\n",
      "[CV] C=0.1, gamma=0.1 ................................................\n",
      "[CV] ...... C=0.1, gamma=0.1, score=0.10661764705882353, total=   0.3s\n",
      "[CV] C=0.1, gamma=0.1 ................................................\n",
      "[CV] ...... C=0.1, gamma=0.1, score=0.10740740740740741, total=   0.3s\n",
      "[CV] C=0.1, gamma=0.1 ................................................\n",
      "[CV] ...... C=0.1, gamma=0.1, score=0.10861423220973783, total=   0.3s\n",
      "[CV] C=0.1, gamma=0.1 ................................................\n",
      "[CV] ...... C=0.1, gamma=0.1, score=0.10902255639097744, total=   0.3s\n",
      "[CV] C=1.0, gamma=1e-05 ..............................................\n",
      "[CV] ..... C=1.0, gamma=1e-05, score=0.8345588235294118, total=   0.2s\n",
      "[CV] C=1.0, gamma=1e-05 ..............................................\n",
      "[CV] ..... C=1.0, gamma=1e-05, score=0.9007352941176471, total=   0.3s\n",
      "[CV] C=1.0, gamma=1e-05 ..............................................\n",
      "[CV] ..... C=1.0, gamma=1e-05, score=0.8518518518518519, total=   0.2s\n",
      "[CV] C=1.0, gamma=1e-05 ..............................................\n",
      "[CV] ...... C=1.0, gamma=1e-05, score=0.850187265917603, total=   0.3s\n",
      "[CV] C=1.0, gamma=1e-05 ..............................................\n",
      "[CV] ..... C=1.0, gamma=1e-05, score=0.8872180451127819, total=   0.2s\n",
      "[CV] C=1.0, gamma=0.0001 .............................................\n",
      "[CV] .... C=1.0, gamma=0.0001, score=0.9705882352941176, total=   0.1s\n",
      "[CV] C=1.0, gamma=0.0001 .............................................\n",
      "[CV] .... C=1.0, gamma=0.0001, score=0.9816176470588235, total=   0.1s\n",
      "[CV] C=1.0, gamma=0.0001 .............................................\n",
      "[CV] .... C=1.0, gamma=0.0001, score=0.9703703703703703, total=   0.1s\n",
      "[CV] C=1.0, gamma=0.0001 .............................................\n",
      "[CV] .... C=1.0, gamma=0.0001, score=0.9662921348314607, total=   0.1s\n",
      "[CV] C=1.0, gamma=0.0001 .............................................\n",
      "[CV] .... C=1.0, gamma=0.0001, score=0.9624060150375939, total=   0.1s\n",
      "[CV] C=1.0, gamma=0.001 ..............................................\n",
      "[CV] ..... C=1.0, gamma=0.001, score=0.9889705882352942, total=   0.1s\n",
      "[CV] C=1.0, gamma=0.001 ..............................................\n",
      "[CV] ..... C=1.0, gamma=0.001, score=0.9926470588235294, total=   0.1s\n",
      "[CV] C=1.0, gamma=0.001 ..............................................\n",
      "[CV] ..... C=1.0, gamma=0.001, score=0.9814814814814815, total=   0.1s\n",
      "[CV] C=1.0, gamma=0.001 ..............................................\n",
      "[CV] ..... C=1.0, gamma=0.001, score=0.9850187265917603, total=   0.1s\n",
      "[CV] C=1.0, gamma=0.001 ..............................................\n",
      "[CV] ..... C=1.0, gamma=0.001, score=0.9887218045112782, total=   0.1s\n",
      "[CV] C=1.0, gamma=0.01 ...............................................\n",
      "[CV] ...... C=1.0, gamma=0.01, score=0.7647058823529411, total=   0.3s\n",
      "[CV] C=1.0, gamma=0.01 ...............................................\n",
      "[CV] ...... C=1.0, gamma=0.01, score=0.7463235294117647, total=   0.3s\n",
      "[CV] C=1.0, gamma=0.01 ...............................................\n",
      "[CV] ...... C=1.0, gamma=0.01, score=0.7703703703703704, total=   0.3s\n",
      "[CV] C=1.0, gamma=0.01 ...............................................\n",
      "[CV] ...... C=1.0, gamma=0.01, score=0.7528089887640449, total=   0.3s\n",
      "[CV] C=1.0, gamma=0.01 ...............................................\n",
      "[CV] ...... C=1.0, gamma=0.01, score=0.7518796992481203, total=   0.3s\n",
      "[CV] C=1.0, gamma=0.1 ................................................\n",
      "[CV] ...... C=1.0, gamma=0.1, score=0.10661764705882353, total=   0.3s\n",
      "[CV] C=1.0, gamma=0.1 ................................................\n",
      "[CV] ...... C=1.0, gamma=0.1, score=0.10661764705882353, total=   0.3s\n",
      "[CV] C=1.0, gamma=0.1 ................................................\n",
      "[CV] ...... C=1.0, gamma=0.1, score=0.10740740740740741, total=   0.3s\n",
      "[CV] C=1.0, gamma=0.1 ................................................\n",
      "[CV] ...... C=1.0, gamma=0.1, score=0.10861423220973783, total=   0.3s\n",
      "[CV] C=1.0, gamma=0.1 ................................................\n",
      "[CV] ...... C=1.0, gamma=0.1, score=0.10902255639097744, total=   0.3s\n",
      "[CV] C=10.0, gamma=1e-05 .............................................\n",
      "[CV] .... C=10.0, gamma=1e-05, score=0.9705882352941176, total=   0.1s\n",
      "[CV] C=10.0, gamma=1e-05 .............................................\n",
      "[CV] .... C=10.0, gamma=1e-05, score=0.9816176470588235, total=   0.1s\n",
      "[CV] C=10.0, gamma=1e-05 .............................................\n",
      "[CV] .... C=10.0, gamma=1e-05, score=0.9703703703703703, total=   0.1s\n",
      "[CV] C=10.0, gamma=1e-05 .............................................\n",
      "[CV] .... C=10.0, gamma=1e-05, score=0.9662921348314607, total=   0.1s\n",
      "[CV] C=10.0, gamma=1e-05 .............................................\n",
      "[CV] .... C=10.0, gamma=1e-05, score=0.9624060150375939, total=   0.1s\n",
      "[CV] C=10.0, gamma=0.0001 ............................................\n",
      "[CV] ... C=10.0, gamma=0.0001, score=0.9889705882352942, total=   0.1s\n",
      "[CV] C=10.0, gamma=0.0001 ............................................\n",
      "[CV] ... C=10.0, gamma=0.0001, score=0.9889705882352942, total=   0.1s\n",
      "[CV] C=10.0, gamma=0.0001 ............................................\n",
      "[CV] ... C=10.0, gamma=0.0001, score=0.9777777777777777, total=   0.1s\n",
      "[CV] C=10.0, gamma=0.0001 ............................................\n",
      "[CV] ... C=10.0, gamma=0.0001, score=0.9812734082397003, total=   0.1s\n",
      "[CV] C=10.0, gamma=0.0001 ............................................\n",
      "[CV] ... C=10.0, gamma=0.0001, score=0.9849624060150376, total=   0.1s\n",
      "[CV] C=10.0, gamma=0.001 .............................................\n",
      "[CV] .... C=10.0, gamma=0.001, score=0.9889705882352942, total=   0.1s\n",
      "[CV] C=10.0, gamma=0.001 .............................................\n",
      "[CV] .... C=10.0, gamma=0.001, score=0.9926470588235294, total=   0.1s\n",
      "[CV] C=10.0, gamma=0.001 .............................................\n",
      "[CV] .... C=10.0, gamma=0.001, score=0.9851851851851852, total=   0.1s\n",
      "[CV] C=10.0, gamma=0.001 .............................................\n",
      "[CV] .... C=10.0, gamma=0.001, score=0.9850187265917603, total=   0.1s\n",
      "[CV] C=10.0, gamma=0.001 .............................................\n",
      "[CV] .... C=10.0, gamma=0.001, score=0.9887218045112782, total=   0.1s\n",
      "[CV] C=10.0, gamma=0.01 ..............................................\n",
      "[CV] ..... C=10.0, gamma=0.01, score=0.7830882352941176, total=   0.3s\n",
      "[CV] C=10.0, gamma=0.01 ..............................................\n",
      "[CV] ..... C=10.0, gamma=0.01, score=0.7794117647058824, total=   0.3s\n",
      "[CV] C=10.0, gamma=0.01 ..............................................\n",
      "[CV] ..... C=10.0, gamma=0.01, score=0.7777777777777778, total=   0.3s\n",
      "[CV] C=10.0, gamma=0.01 ..............................................\n"
     ]
    },
    {
     "name": "stdout",
     "output_type": "stream",
     "text": [
      "[CV] ..... C=10.0, gamma=0.01, score=0.7752808988764045, total=   0.3s\n",
      "[CV] C=10.0, gamma=0.01 ..............................................\n",
      "[CV] ..... C=10.0, gamma=0.01, score=0.7706766917293233, total=   0.3s\n",
      "[CV] C=10.0, gamma=0.1 ...............................................\n",
      "[CV] ..... C=10.0, gamma=0.1, score=0.10661764705882353, total=   0.3s\n",
      "[CV] C=10.0, gamma=0.1 ...............................................\n",
      "[CV] ..... C=10.0, gamma=0.1, score=0.10661764705882353, total=   0.3s\n",
      "[CV] C=10.0, gamma=0.1 ...............................................\n",
      "[CV] ..... C=10.0, gamma=0.1, score=0.10740740740740741, total=   0.3s\n",
      "[CV] C=10.0, gamma=0.1 ...............................................\n",
      "[CV] ..... C=10.0, gamma=0.1, score=0.10861423220973783, total=   0.3s\n",
      "[CV] C=10.0, gamma=0.1 ...............................................\n",
      "[CV] ..... C=10.0, gamma=0.1, score=0.10902255639097744, total=   0.3s\n",
      "[CV] C=100.0, gamma=1e-05 ............................................\n",
      "[CV] ... C=100.0, gamma=1e-05, score=0.9852941176470589, total=   0.0s\n",
      "[CV] C=100.0, gamma=1e-05 ............................................\n",
      "[CV] ... C=100.0, gamma=1e-05, score=0.9889705882352942, total=   0.0s\n",
      "[CV] C=100.0, gamma=1e-05 ............................................\n",
      "[CV] ... C=100.0, gamma=1e-05, score=0.9629629629629629, total=   0.1s\n",
      "[CV] C=100.0, gamma=1e-05 ............................................\n",
      "[CV] ... C=100.0, gamma=1e-05, score=0.9812734082397003, total=   0.1s\n",
      "[CV] C=100.0, gamma=1e-05 ............................................\n",
      "[CV] .... C=100.0, gamma=1e-05, score=0.981203007518797, total=   0.1s\n",
      "[CV] C=100.0, gamma=0.0001 ...........................................\n",
      "[CV] .. C=100.0, gamma=0.0001, score=0.9852941176470589, total=   0.1s\n",
      "[CV] C=100.0, gamma=0.0001 ...........................................\n",
      "[CV] .. C=100.0, gamma=0.0001, score=0.9926470588235294, total=   0.1s\n",
      "[CV] C=100.0, gamma=0.0001 ...........................................\n",
      "[CV] .. C=100.0, gamma=0.0001, score=0.9777777777777777, total=   0.1s\n",
      "[CV] C=100.0, gamma=0.0001 ...........................................\n",
      "[CV] .. C=100.0, gamma=0.0001, score=0.9887640449438202, total=   0.1s\n",
      "[CV] C=100.0, gamma=0.0001 ...........................................\n",
      "[CV] .. C=100.0, gamma=0.0001, score=0.9849624060150376, total=   0.1s\n",
      "[CV] C=100.0, gamma=0.001 ............................................\n",
      "[CV] ... C=100.0, gamma=0.001, score=0.9889705882352942, total=   0.1s\n",
      "[CV] C=100.0, gamma=0.001 ............................................\n",
      "[CV] ... C=100.0, gamma=0.001, score=0.9926470588235294, total=   0.1s\n",
      "[CV] C=100.0, gamma=0.001 ............................................\n",
      "[CV] ... C=100.0, gamma=0.001, score=0.9851851851851852, total=   0.1s\n",
      "[CV] C=100.0, gamma=0.001 ............................................\n",
      "[CV] ... C=100.0, gamma=0.001, score=0.9850187265917603, total=   0.1s\n",
      "[CV] C=100.0, gamma=0.001 ............................................\n",
      "[CV] ... C=100.0, gamma=0.001, score=0.9887218045112782, total=   0.1s\n",
      "[CV] C=100.0, gamma=0.01 .............................................\n",
      "[CV] .... C=100.0, gamma=0.01, score=0.7830882352941176, total=   0.3s\n",
      "[CV] C=100.0, gamma=0.01 .............................................\n",
      "[CV] .... C=100.0, gamma=0.01, score=0.7794117647058824, total=   0.3s\n",
      "[CV] C=100.0, gamma=0.01 .............................................\n",
      "[CV] .... C=100.0, gamma=0.01, score=0.7777777777777778, total=   0.3s\n",
      "[CV] C=100.0, gamma=0.01 .............................................\n",
      "[CV] .... C=100.0, gamma=0.01, score=0.7752808988764045, total=   0.3s\n",
      "[CV] C=100.0, gamma=0.01 .............................................\n",
      "[CV] .... C=100.0, gamma=0.01, score=0.7706766917293233, total=   0.3s\n",
      "[CV] C=100.0, gamma=0.1 ..............................................\n",
      "[CV] .... C=100.0, gamma=0.1, score=0.10661764705882353, total=   0.3s\n",
      "[CV] C=100.0, gamma=0.1 ..............................................\n",
      "[CV] .... C=100.0, gamma=0.1, score=0.10661764705882353, total=   0.4s\n",
      "[CV] C=100.0, gamma=0.1 ..............................................\n",
      "[CV] .... C=100.0, gamma=0.1, score=0.10740740740740741, total=   0.3s\n",
      "[CV] C=100.0, gamma=0.1 ..............................................\n",
      "[CV] .... C=100.0, gamma=0.1, score=0.10861423220973783, total=   0.3s\n",
      "[CV] C=100.0, gamma=0.1 ..............................................\n",
      "[CV] .... C=100.0, gamma=0.1, score=0.10902255639097744, total=   0.3s\n"
     ]
    },
    {
     "name": "stderr",
     "output_type": "stream",
     "text": [
      "[Parallel(n_jobs=1)]: Done 150 out of 150 | elapsed:   54.4s finished\n"
     ]
    },
    {
     "data": {
      "text/plain": [
       "GridSearchCV(cv=5, error_score='raise',\n",
       "       estimator=SVC(C=1.0, cache_size=200, class_weight=None, coef0=0.0,\n",
       "  decision_function_shape='ovr', degree=3, gamma='auto', kernel='rbf',\n",
       "  max_iter=-1, probability=False, random_state=None, shrinking=True,\n",
       "  tol=0.001, verbose=False),\n",
       "       fit_params=None, iid=True, n_jobs=1,\n",
       "       param_grid={'C': array([  0.001,   0.01 ,   0.1  ,   1.   ,  10.   , 100.   ]), 'gamma': array([0.00001, 0.0001 , 0.001  , 0.01   , 0.1    ])},\n",
       "       pre_dispatch='2*n_jobs', refit=True, return_train_score='warn',\n",
       "       scoring=None, verbose=3)"
      ]
     },
     "execution_count": 10,
     "metadata": {},
     "output_type": "execute_result"
    }
   ],
   "source": [
    "busqueda_grid.fit(X_entrenamiento, y_entrenamiento)"
   ]
  },
  {
   "cell_type": "code",
   "execution_count": 11,
   "metadata": {},
   "outputs": [
    {
     "data": {
      "text/plain": [
       "array([4, 5, 2, 8, 1, 3, 4, 9, 5, 9, 8, 2, 8, 5, 8, 5, 2, 2, 3, 0, 5, 8,\n",
       "       5, 5, 4, 4, 1, 8, 3, 5, 6, 2, 8, 1, 2, 0, 4, 1, 4, 2, 1, 1, 7, 3,\n",
       "       3, 6, 0, 2, 6, 0, 9, 3, 8, 6, 9, 3, 4, 8, 3, 1, 0, 3, 3, 7, 3, 8,\n",
       "       5, 0, 4, 0, 4, 4, 3, 0, 6, 0, 1, 8, 3, 6, 9, 9, 4, 2, 2, 0, 0, 3,\n",
       "       2, 4, 8, 1, 3, 6, 6, 8, 3, 5, 7, 6, 9, 8, 5, 7, 4, 2, 8, 3, 3, 4,\n",
       "       2, 7, 5, 6, 3, 1, 1, 9, 5, 4, 0, 2, 7, 5, 0, 5, 4, 4, 3, 8, 5, 3,\n",
       "       0, 3, 1, 0, 4, 6, 3, 4, 4, 7, 6, 8, 1, 1, 0, 8, 1, 7, 4, 3, 5, 1,\n",
       "       8, 8, 8, 7, 9, 0, 9, 5, 8, 6, 2, 0, 6, 9, 1, 4, 3, 3, 3, 7, 7, 0,\n",
       "       7, 4, 5, 1, 8, 5, 9, 8, 0, 0, 0, 4, 2, 5, 6, 8, 1, 1, 6, 5, 9, 1,\n",
       "       5, 0, 4, 0, 1, 8, 3, 2, 5, 0, 2, 8, 5, 7, 4, 7, 4, 9, 6, 0, 1, 9,\n",
       "       8, 6, 4, 6, 6, 3, 2, 1, 2, 4, 4, 9, 2, 7, 5, 1, 0, 5, 1, 8, 9, 0,\n",
       "       5, 7, 7, 0, 7, 1, 0, 5, 6, 5, 6, 8, 3, 2, 9, 9, 2, 3, 8, 7, 9, 4,\n",
       "       4, 7, 0, 0, 1, 2, 9, 6, 8, 7, 0, 3, 3, 5, 1, 0, 7, 2, 3, 3, 4, 4,\n",
       "       6, 3, 6, 9, 1, 6, 9, 3, 6, 6, 4, 6, 8, 5, 1, 1, 3, 3, 4, 8, 2, 1,\n",
       "       3, 5, 0, 3, 2, 7, 4, 8, 5, 5, 5, 1, 8, 4, 5, 0, 9, 1, 4, 1, 4, 7,\n",
       "       5, 3, 0, 5, 0, 9, 2, 5, 0, 5, 5, 1, 2, 7, 3, 7, 3, 7, 3, 6, 8, 6,\n",
       "       4, 6, 4, 0, 4, 5, 0, 8, 7, 2, 2, 1, 2, 1, 6, 2, 1, 1, 9, 0, 4, 6,\n",
       "       7, 9, 2, 5, 4, 9, 2, 9, 8, 6, 6, 0, 5, 3, 2, 4, 6, 8, 2, 5, 1, 1,\n",
       "       2, 0, 5, 0, 8, 6, 0, 1, 9, 6, 6, 8, 8, 2, 7, 1, 7, 9, 4, 7, 3, 8,\n",
       "       0, 9, 7, 9, 4, 7, 5, 9, 8, 5, 8, 3, 8, 8, 4, 1, 8, 7, 5, 1, 7, 3,\n",
       "       1, 3, 6, 6, 7, 8, 2, 6, 7, 0])"
      ]
     },
     "execution_count": 11,
     "metadata": {},
     "output_type": "execute_result"
    }
   ],
   "source": [
    "busqueda_grid.predict(X_prueba)"
   ]
  },
  {
   "cell_type": "code",
   "execution_count": 12,
   "metadata": {},
   "outputs": [
    {
     "data": {
      "text/plain": [
       "0.9911111111111112"
      ]
     },
     "execution_count": 12,
     "metadata": {},
     "output_type": "execute_result"
    }
   ],
   "source": [
    "busqueda_grid.score(X_prueba, y_prueba)"
   ]
  },
  {
   "cell_type": "code",
   "execution_count": 13,
   "metadata": {},
   "outputs": [
    {
     "data": {
      "text/plain": [
       "{'C': 10.0, 'gamma': 0.001}"
      ]
     },
     "execution_count": 13,
     "metadata": {},
     "output_type": "execute_result"
    }
   ],
   "source": [
    "busqueda_grid.best_params_"
   ]
  },
  {
   "cell_type": "code",
   "execution_count": 14,
   "metadata": {},
   "outputs": [
    {
     "data": {
      "text/plain": [
       "0.9881217520415738"
      ]
     },
     "execution_count": 14,
     "metadata": {},
     "output_type": "execute_result"
    }
   ],
   "source": [
    "busqueda_grid.best_score_"
   ]
  },
  {
   "cell_type": "code",
   "execution_count": 15,
   "metadata": {},
   "outputs": [
    {
     "data": {
      "text/plain": [
       "SVC(C=10.0, cache_size=200, class_weight=None, coef0=0.0,\n",
       "  decision_function_shape='ovr', degree=3, gamma=0.001, kernel='rbf',\n",
       "  max_iter=-1, probability=False, random_state=None, shrinking=True,\n",
       "  tol=0.001, verbose=False)"
      ]
     },
     "execution_count": 15,
     "metadata": {},
     "output_type": "execute_result"
    }
   ],
   "source": [
    "busqueda_grid.best_estimator_"
   ]
  },
  {
   "cell_type": "markdown",
   "metadata": {},
   "source": [
    "Extraemos los puntajes"
   ]
  },
  {
   "cell_type": "code",
   "execution_count": 16,
   "metadata": {},
   "outputs": [
    {
     "data": {
      "image/png": "[encoded data removed]",
      "text/plain": [
       "<Figure size 288x345.6 with 2 Axes>"
      ]
     },
     "metadata": {},
     "output_type": "display_data"
    }
   ],
   "source": [
    "puntuaciones = busqueda_grid.cv_results_['mean_test_score']\n",
    "puntuaciones = np.array(puntuaciones).reshape(6, 5)\n",
    "\n",
    "plt.matshow(puntuaciones)\n",
    "plt.xlabel('gamma')\n",
    "plt.ylabel('C')\n",
    "plt.colorbar()\n",
    "plt.xticks(np.arange(5), parametros_grid['gamma'])\n",
    "plt.yticks(np.arange(6), parametros_grid['C']);\n"
   ]
  },
  {
   "cell_type": "code",
   "execution_count": null,
   "metadata": {},
   "outputs": [],
   "source": [
    "# Tu solucion"
   ]
  },
  {
   "cell_type": "code",
   "execution_count": 18,
   "metadata": {
    "solution": "hidden",
    "solution_first": true
   },
   "outputs": [
    {
     "data": {
      "text/plain": [
       "GridSearchCV(cv=5, error_score='raise',\n",
       "       estimator=KNeighborsClassifier(algorithm='auto', leaf_size=30, metric='minkowski',\n",
       "           metric_params=None, n_jobs=1, n_neighbors=5, p=2,\n",
       "           weights='uniform'),\n",
       "       fit_params=None, iid=True, n_jobs=1,\n",
       "       param_grid={'n_neighbors': array([2, 3, 4, 5, 6, 7, 8, 9]), 'weights': ['uniform', 'distance']},\n",
       "       pre_dispatch='2*n_jobs', refit=True, return_train_score='warn',\n",
       "       scoring='accuracy', verbose=0)"
      ]
     },
     "execution_count": 18,
     "metadata": {},
     "output_type": "execute_result"
    }
   ],
   "source": [
    "from sklearn.neighbors import KNeighborsClassifier\n",
    "neighbors = np.arange(2,10)\n",
    "weights = ['uniform','distance']\n",
    "grid_knn = {'n_neighbors':neighbors, 'weights':weights}\n",
    "gridsearch_kNN = GridSearchCV(KNeighborsClassifier(), grid_knn, scoring='accuracy', cv=5)\n",
    "gridsearch_kNN.fit(X_entrenamiento,y_entrenamiento)\n"
   ]
  },
  {
   "cell_type": "code",
   "execution_count": 19,
   "metadata": {},
   "outputs": [
    {
     "data": {
      "text/plain": [
       "{'n_neighbors': 3, 'weights': 'distance'}"
      ]
     },
     "execution_count": 19,
     "metadata": {},
     "output_type": "execute_result"
    }
   ],
   "source": [
    "gridsearch_kNN.best_params_\n"
   ]
  },
  {
   "cell_type": "code",
   "execution_count": 21,
   "metadata": {},
   "outputs": [
    {
     "data": {
      "text/plain": [
       "0.9881217520415738"
      ]
     },
     "execution_count": 21,
     "metadata": {},
     "output_type": "execute_result"
    }
   ],
   "source": [
    "gridsearch_kNN.best_score_"
   ]
  }
 ],
 "metadata": {
  "kernelspec": {
   "display_name": "Python 3",
   "language": "python",
   "name": "python3"
  },
  "language_info": {
   "codemirror_mode": {
    "name": "ipython",
    "version": 3
   },
   "file_extension": ".py",
   "mimetype": "text/x-python",
   "name": "python",
   "nbconvert_exporter": "python",
   "pygments_lexer": "ipython3",
   "version": "3.6.5"
  }
 },
 "nbformat": 4,
 "nbformat_minor": 2
}
