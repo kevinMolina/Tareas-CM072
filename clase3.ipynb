{
 "cells": [
  {
   "cell_type": "code",
   "execution_count": 4,
   "metadata": {},
   "outputs": [],
   "source": [
    "# Librerias\n",
    "from sklearn.linear_model import Lasso\n",
    "from sklearn.linear_model import Ridge\n",
    "from sklearn.linear_model import LinearRegression\n",
    "#iris\n",
    "from sklearn.datasets import load_iris\n",
    "from sklearn.preprocessing import StandardScaler\n",
    "# Cargando datos\n",
    "#boston = load_boston()\n",
    "#leyendo datos\n",
    "iris= load_iris()\n",
    "X = iris.data\n",
    "y = iris.target\n",
    "# Caracteristicas estandarizadas\n",
    "escalador = StandardScaler()\n",
    "X_std = escalador.fit_transform(X)\n",
    "# Creamos una regresion Lasso, ridge con un valor para alpha y lineal\n",
    "regr_l = Lasso(alpha=0.5)\n",
    "linreg = LinearRegression()\n",
    "regr_r = Ridge(alpha=0.5)\n",
    "# Ajustamos la regresion\n",
    "modelo_lasso = regr_l.fit(X_std, y)\n",
    "modelo_ridge = regr_r.fit(X_std, y)\n",
    "modelo_lineal = linreg.fit(X_std, y)"
   ]
  },
  {
   "cell_type": "code",
   "execution_count": null,
   "metadata": {},
   "outputs": [],
   "source": [
    "# Librerias\n",
    "from sklearn.linear_model import LogisticRegression\n",
    "from sklearn import datasets\n",
    "from sklearn.preprocessing import StandardScaler\n",
    "from sklearn import load_boston\n"
   ]
  }
 ],
 "metadata": {
  "kernelspec": {
   "display_name": "Python 3",
   "language": "python",
   "name": "python3"
  },
  "language_info": {
   "codemirror_mode": {
    "name": "ipython",
    "version": 3
   },
   "file_extension": ".py",
   "mimetype": "text/x-python",
   "name": "python",
   "nbconvert_exporter": "python",
   "pygments_lexer": "ipython3",
   "version": "3.6.5"
  }
 },
 "nbformat": 4,
 "nbformat_minor": 2
}
